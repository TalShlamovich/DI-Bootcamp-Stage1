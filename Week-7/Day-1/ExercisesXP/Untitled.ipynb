{
 "cells": [
  {
   "cell_type": "markdown",
   "id": "8740a889",
   "metadata": {},
   "source": [
    "        Numpy questions"
   ]
  },
  {
   "cell_type": "code",
   "execution_count": 2,
   "id": "cc58f458",
   "metadata": {},
   "outputs": [],
   "source": [
    "#  1. Import the numpy package under the name `np`\n",
    "import numpy as np"
   ]
  },
  {
   "cell_type": "code",
   "execution_count": 3,
   "id": "74709e5a",
   "metadata": {},
   "outputs": [
    {
     "name": "stdout",
     "output_type": "stream",
     "text": [
      "1.23.1\n"
     ]
    }
   ],
   "source": [
    "#  2. Print the numpy version\n",
    "#  hint: search on Google \"numpy version\", the first entry.\n",
    "print (np.__version__)"
   ]
  },
  {
   "cell_type": "code",
   "execution_count": 4,
   "id": "f18d720d",
   "metadata": {},
   "outputs": [],
   "source": [
    "# 3. Create a vector of zeros with the size 10\n",
    "#  hint: use np.zeros()\n",
    "zero_vector = np.zeros(10)"
   ]
  },
  {
   "cell_type": "code",
   "execution_count": 5,
   "id": "2e002c39",
   "metadata": {},
   "outputs": [],
   "source": [
    "# 4. How to find the memory size of any array\n",
    "#  array.size * array.itemsize"
   ]
  },
  {
   "cell_type": "code",
   "execution_count": 6,
   "id": "6bd906f6",
   "metadata": {},
   "outputs": [],
   "source": [
    "# How to get the documentation of the numpy add function from the IPython console?\n",
    "#  hint: try \"?\" before the function name\n",
    "?np.add"
   ]
  },
  {
   "cell_type": "code",
   "execution_count": 7,
   "id": "c86852f6",
   "metadata": {},
   "outputs": [
    {
     "data": {
      "text/plain": [
       "array([0., 0., 0., 0., 0., 1., 0., 0., 0., 0.])"
      ]
     },
     "execution_count": 7,
     "metadata": {},
     "output_type": "execute_result"
    }
   ],
   "source": [
    "# 6. Create a vector of zeros with the size 10 but the fifth value which is 1\n",
    "new_array = np.zeros(10)\n",
    "new_array[5] = 1\n",
    "new_array"
   ]
  },
  {
   "cell_type": "code",
   "execution_count": 8,
   "id": "432f0256",
   "metadata": {},
   "outputs": [
    {
     "data": {
      "text/plain": [
       "array([10, 11, 12, 13, 14, 15, 16, 17, 18, 19, 20, 21, 22, 23, 24, 25, 26,\n",
       "       27, 28, 29, 30, 31, 32, 33, 34, 35, 36, 37, 38, 39, 40, 41, 42, 43,\n",
       "       44, 45, 46, 47, 48, 49])"
      ]
     },
     "execution_count": 8,
     "metadata": {},
     "output_type": "execute_result"
    }
   ],
   "source": [
    "# 7. Create a vector with values ranging from 10 to 49\n",
    "vector = np.arange (10,50)\n",
    "vector"
   ]
  },
  {
   "cell_type": "code",
   "execution_count": 9,
   "id": "0a7da366",
   "metadata": {},
   "outputs": [
    {
     "data": {
      "text/plain": [
       "array([49, 48, 47, 46, 45, 44, 43, 42, 41, 40, 39, 38, 37, 36, 35, 34, 33,\n",
       "       32, 31, 30, 29, 28, 27, 26, 25, 24, 23, 22, 21, 20, 19, 18, 17, 16,\n",
       "       15, 14, 13, 12, 11, 10])"
      ]
     },
     "execution_count": 9,
     "metadata": {},
     "output_type": "execute_result"
    }
   ],
   "source": [
    "# 8. Reverse a vector (first element becomes last)\n",
    "vector[::-1]"
   ]
  },
  {
   "cell_type": "code",
   "execution_count": 10,
   "id": "9c132efc",
   "metadata": {},
   "outputs": [
    {
     "data": {
      "text/plain": [
       "array([[0, 1, 2],\n",
       "       [3, 4, 5],\n",
       "       [6, 7, 8]])"
      ]
     },
     "execution_count": 10,
     "metadata": {},
     "output_type": "execute_result"
    }
   ],
   "source": [
    "# 9. Create a 3x3 matrix with values ranging from 0 to 8 ( )\n",
    "matrix= np.arange(9).reshape((3, 3))\n",
    "matrix"
   ]
  },
  {
   "cell_type": "code",
   "execution_count": 11,
   "id": "63d91182",
   "metadata": {},
   "outputs": [
    {
     "data": {
      "text/plain": [
       "(array([0, 1, 4], dtype=int64),)"
      ]
     },
     "execution_count": 11,
     "metadata": {},
     "output_type": "execute_result"
    }
   ],
   "source": [
    "#  10. Find indices of non-zero elements from \\[1,2,0,0,4,0\\] ( ) ★☆☆\n",
    "#  hint: nonzero\n",
    "ten = [1,2,0,0,4,0]\n",
    "np.nonzero(ten)"
   ]
  },
  {
   "cell_type": "code",
   "execution_count": 12,
   "id": "34d9f4d8",
   "metadata": {},
   "outputs": [
    {
     "data": {
      "text/plain": [
       "array([[1., 0., 0.],\n",
       "       [0., 1., 0.],\n",
       "       [0., 0., 1.]])"
      ]
     },
     "execution_count": 12,
     "metadata": {},
     "output_type": "execute_result"
    }
   ],
   "source": [
    "# 11. Create a 3x3 identity matrix\n",
    "identity=np.identity(3)\n",
    "identity"
   ]
  },
  {
   "cell_type": "code",
   "execution_count": 13,
   "id": "8273a44d",
   "metadata": {},
   "outputs": [
    {
     "data": {
      "text/plain": [
       "array([[[0.19809381, 0.63689154, 0.8848993 ],\n",
       "        [0.18989091, 0.01739099, 0.01755457],\n",
       "        [0.64174392, 0.84466253, 0.70813394]],\n",
       "\n",
       "       [[0.74289962, 0.73451062, 0.65201609],\n",
       "        [0.49560541, 0.24768359, 0.45421787],\n",
       "        [0.55617778, 0.18911541, 0.9953629 ]],\n",
       "\n",
       "       [[0.59415546, 0.95083568, 0.05721576],\n",
       "        [0.11411582, 0.61691175, 0.48587355],\n",
       "        [0.3633453 , 0.95467477, 0.93942063]]])"
      ]
     },
     "execution_count": 13,
     "metadata": {},
     "output_type": "execute_result"
    }
   ],
   "source": [
    "# 12. Create a 3x3x3 array with random values\n",
    "x = np.random.random((3,3,3))\n",
    "x"
   ]
  },
  {
   "cell_type": "code",
   "execution_count": 14,
   "id": "2c9adced",
   "metadata": {},
   "outputs": [
    {
     "data": {
      "text/plain": [
       "0.9959959480694985"
      ]
     },
     "execution_count": 14,
     "metadata": {},
     "output_type": "execute_result"
    }
   ],
   "source": [
    "# 13. Create a 10x10 array with random values and find the minimum and maximum values \n",
    "#  hint: a.min,a.max \n",
    "ten_ten = np.random.random((10,10))\n",
    "ten_ten\n",
    "np.min(ten_ten)\n",
    "np.max(ten_ten)"
   ]
  },
  {
   "cell_type": "code",
   "execution_count": 15,
   "id": "5674c4fa",
   "metadata": {},
   "outputs": [
    {
     "data": {
      "text/plain": [
       "0.47522205181826904"
      ]
     },
     "execution_count": 15,
     "metadata": {},
     "output_type": "execute_result"
    }
   ],
   "source": [
    "# 14. Create a random vector of size 30 and find the mean value \n",
    "#  hint: a.mean\n",
    "random = np.random.random(30)\n",
    "random.mean()"
   ]
  },
  {
   "cell_type": "code",
   "execution_count": 16,
   "id": "5c203a54",
   "metadata": {},
   "outputs": [
    {
     "data": {
      "text/plain": [
       "array([[1., 1., 1., 1., 1.],\n",
       "       [1., 0., 0., 0., 1.],\n",
       "       [1., 0., 0., 0., 1.],\n",
       "       [1., 0., 0., 0., 1.],\n",
       "       [1., 1., 1., 1., 1.]])"
      ]
     },
     "execution_count": 16,
     "metadata": {},
     "output_type": "execute_result"
    }
   ],
   "source": [
    "#  15. Create a 2d array with 1 on the border and 0 inside \n",
    "#  hint: ones()\n",
    "#  hint2: for an array a, which elements are chosen by a[1:-1] ?\n",
    "fifteen = np.ones((5,5))\n",
    "fifteen[1:-1,1:-1] = 0\n",
    "fifteen"
   ]
  },
  {
   "cell_type": "code",
   "execution_count": 17,
   "id": "ee122f18",
   "metadata": {},
   "outputs": [
    {
     "data": {
      "text/plain": [
       "array([[0., 0., 0., 0., 0., 0., 0.],\n",
       "       [0., 1., 1., 1., 1., 1., 0.],\n",
       "       [0., 1., 0., 0., 0., 1., 0.],\n",
       "       [0., 1., 0., 0., 0., 1., 0.],\n",
       "       [0., 1., 0., 0., 0., 1., 0.],\n",
       "       [0., 1., 1., 1., 1., 1., 0.],\n",
       "       [0., 0., 0., 0., 0., 0., 0.]])"
      ]
     },
     "execution_count": 17,
     "metadata": {},
     "output_type": "execute_result"
    }
   ],
   "source": [
    "# 16. How to add a border (filled with 0's) around an existing array?\n",
    "fifteen = np.pad(fifteen, pad_width=1, mode='constant', constant_values=0)\n",
    "fifteen"
   ]
  },
  {
   "cell_type": "code",
   "execution_count": 18,
   "id": "751030ce",
   "metadata": {},
   "outputs": [],
   "source": [
    "# 17. What is the result of the following expression? (★☆☆)\n",
    "# ```python\n",
    "# 0 * np.nan # nan\n",
    "# np.nan == np.nan # false\n",
    "# np.inf > np.nan # false\n",
    "# np.nan - np.nan #nan\n",
    "# 0.3 == 3 * 0.1 # false\n",
    "# ```\n",
    "# hint 1: nan is not a number\n",
    "# hint 2: try printing the expressions to see what is printed"
   ]
  },
  {
   "cell_type": "code",
   "execution_count": 19,
   "id": "7819f3d8",
   "metadata": {},
   "outputs": [],
   "source": [
    "# 18. Create a 5x5 matrix with values 1,2,3,4,7 on the diagonal"
   ]
  },
  {
   "cell_type": "code",
   "execution_count": 20,
   "id": "24bd157d",
   "metadata": {},
   "outputs": [
    {
     "data": {
      "text/plain": [
       "array([[1, 0, 0, 0, 0],\n",
       "       [0, 2, 0, 0, 0],\n",
       "       [0, 0, 3, 0, 0],\n",
       "       [0, 0, 0, 4, 0],\n",
       "       [0, 0, 0, 0, 7]])"
      ]
     },
     "execution_count": 20,
     "metadata": {},
     "output_type": "execute_result"
    }
   ],
   "source": [
    "zero_diag = np.diag([1, 2, 3, 4, 7])\n",
    "zero_diag"
   ]
  },
  {
   "cell_type": "code",
   "execution_count": 21,
   "id": "4b9a2bf8",
   "metadata": {
    "scrolled": true
   },
   "outputs": [
    {
     "data": {
      "text/plain": [
       "array([[0., 1., 0., 1., 0., 1., 0., 1.],\n",
       "       [1., 0., 1., 0., 1., 0., 1., 0.],\n",
       "       [0., 1., 0., 1., 0., 1., 0., 1.],\n",
       "       [1., 0., 1., 0., 1., 0., 1., 0.],\n",
       "       [0., 1., 0., 1., 0., 1., 0., 1.],\n",
       "       [1., 0., 1., 0., 1., 0., 1., 0.],\n",
       "       [0., 1., 0., 1., 0., 1., 0., 1.],\n",
       "       [1., 0., 1., 0., 1., 0., 1., 0.]])"
      ]
     },
     "execution_count": 21,
     "metadata": {},
     "output_type": "execute_result"
    }
   ],
   "source": [
    "# 19. Create a 8x8 matrix and fill it with a checkerboard pattern\n",
    "# hint1: slicing an array you can use - list[start:end:step]\n",
    "# hint2: [::2] - for even. [1::2] - for odd\n",
    "\n",
    "checkers = np.zeros((8,8))\n",
    "checkers[1::2,::2]= 1\n",
    "checkers[::2,1::2] = 1\n",
    "checkers"
   ]
  },
  {
   "cell_type": "code",
   "execution_count": 40,
   "id": "3fcd3712",
   "metadata": {},
   "outputs": [
    {
     "data": {
      "text/plain": [
       "(1, 5, 4)"
      ]
     },
     "execution_count": 40,
     "metadata": {},
     "output_type": "execute_result"
    }
   ],
   "source": [
    "# 20. Consider a (6,7,8) shape array, what is the index (x,y,z) of the 100th element?\n",
    "# np.unravel_index(100, (6,7,8))\n",
    "\n",
    "\n",
    "# array = np.random.randint(0,10,(6,7,8))\n",
    "# reshaped = array.reshape((6*7*8,))[100]"
   ]
  },
  {
   "cell_type": "code",
   "execution_count": 23,
   "id": "ac07ff7d",
   "metadata": {},
   "outputs": [
    {
     "data": {
      "text/plain": [
       "array([[0, 1, 0, 1, 0, 1, 0, 1],\n",
       "       [1, 0, 1, 0, 1, 0, 1, 0],\n",
       "       [0, 1, 0, 1, 0, 1, 0, 1],\n",
       "       [1, 0, 1, 0, 1, 0, 1, 0],\n",
       "       [0, 1, 0, 1, 0, 1, 0, 1],\n",
       "       [1, 0, 1, 0, 1, 0, 1, 0],\n",
       "       [0, 1, 0, 1, 0, 1, 0, 1],\n",
       "       [1, 0, 1, 0, 1, 0, 1, 0]])"
      ]
     },
     "execution_count": 23,
     "metadata": {},
     "output_type": "execute_result"
    }
   ],
   "source": [
    "# 21. Create a checkerboard 8x8 matrix using the tile function (★☆☆)\n",
    "# hint: numpy.tile(A, reps)\n",
    "# Construct an array by repeating A the number of times given by reps.\n",
    "\n",
    "tile_checkers = np.array([[0,1],[1,0]])\n",
    "tile_checkers = np.tile(tile_checkers, (4,4))\n",
    "tile_checkers"
   ]
  },
  {
   "cell_type": "code",
   "execution_count": 24,
   "id": "7e7606fb",
   "metadata": {},
   "outputs": [
    {
     "data": {
      "text/plain": [
       "2.8458177787275543"
      ]
     },
     "execution_count": 24,
     "metadata": {},
     "output_type": "execute_result"
    }
   ],
   "source": [
    "# 22. Normalize a 5x5 random matrix\n",
    "# hint: create a random 5*5 matrix\n",
    "\n",
    "normalised = np.random.random((5,5))\n",
    " \n",
    "normalised= (normalised-normalised.min())/(normalised.max()-normalised.min())\n",
    "normalised\n",
    "np.linalg.norm(normalised)\n"
   ]
  },
  {
   "cell_type": "code",
   "execution_count": 35,
   "id": "5e604070",
   "metadata": {},
   "outputs": [
    {
     "data": {
      "text/plain": [
       "array([[6, 7, 4, 9],\n",
       "       [4, 3, 1, 9]], dtype=int16)"
      ]
     },
     "execution_count": 35,
     "metadata": {},
     "output_type": "execute_result"
    }
   ],
   "source": [
    "#2\n",
    "array = np.random.randint(0, 10, size = (2,4)).astype(np.int16)\n",
    "array"
   ]
  },
  {
   "cell_type": "code",
   "execution_count": 25,
   "id": "d7c94eeb",
   "metadata": {},
   "outputs": [
    {
     "data": {
      "text/plain": [
       "array([[3., 3.],\n",
       "       [3., 3.],\n",
       "       [3., 3.],\n",
       "       [3., 3.],\n",
       "       [3., 3.]])"
      ]
     },
     "execution_count": 25,
     "metadata": {},
     "output_type": "execute_result"
    }
   ],
   "source": [
    "# 24. Multiply a 5x3 matrix by a 3x2 matrix (real matrix product)\n",
    "# hint: numpy.dot()\n",
    "product = np.dot(np.ones((5,3)), np.ones((3,2)))\n",
    "product"
   ]
  },
  {
   "cell_type": "code",
   "execution_count": 26,
   "id": "46447e3c",
   "metadata": {},
   "outputs": [],
   "source": [
    "# 25. Given a 1D array, negate all elements which are between 3 and 8, in place."
   ]
  },
  {
   "cell_type": "code",
   "execution_count": 27,
   "id": "004c878c",
   "metadata": {},
   "outputs": [
    {
     "data": {
      "text/plain": [
       "array([ 0,  1,  2, -3, -4, -5, -6, -7, -8,  9])"
      ]
     },
     "execution_count": 27,
     "metadata": {},
     "output_type": "execute_result"
    }
   ],
   "source": [
    "# 25. Given a 1D array, negate all elements which are between 3 and 8, in place.\n",
    "arr = np.arange(10)\n",
    "arr[3:9] = np.multiply(arr[3:9],-1)\n",
    "\n",
    "arr"
   ]
  },
  {
   "cell_type": "code",
   "execution_count": 28,
   "id": "0ea8f62e",
   "metadata": {},
   "outputs": [
    {
     "data": {
      "text/plain": [
       "array([False, False, False, False, False, False, False, False, False,\n",
       "       False])"
      ]
     },
     "execution_count": 28,
     "metadata": {},
     "output_type": "execute_result"
    }
   ],
   "source": [
    "# 27. Consider an integer vector Z, which of these expressions are legal?\n",
    "\n",
    "Z=np.arange(10)\n",
    "Z\n",
    "# ```python\n",
    "# Z**Z\n",
    "Z <- Z\n",
    "# 1j*Z\n",
    "# ```\n",
    "\n"
   ]
  },
  {
   "cell_type": "code",
   "execution_count": null,
   "id": "84be2d19",
   "metadata": {},
   "outputs": [],
   "source": []
  },
  {
   "cell_type": "code",
   "execution_count": 29,
   "id": "c7a17adb",
   "metadata": {},
   "outputs": [
    {
     "data": {
      "text/plain": [
       "1j"
      ]
     },
     "execution_count": 29,
     "metadata": {},
     "output_type": "execute_result"
    }
   ],
   "source": [
    "np.emath.sqrt(-1)"
   ]
  },
  {
   "cell_type": "code",
   "execution_count": 30,
   "id": "49d6c9c6",
   "metadata": {},
   "outputs": [
    {
     "data": {
      "text/plain": [
       "numpy.datetime64('2022-08-02')"
      ]
     },
     "execution_count": 30,
     "metadata": {},
     "output_type": "execute_result"
    }
   ],
   "source": [
    "# 33. How to get the dates of yesterday, today and tomorrow?\n",
    "today = np.datetime64('today', 'D')\n",
    "today\n",
    "yesterday = np.datetime64('today', 'D') - np.timedelta64(1, 'D')\n",
    "yesterday\n",
    "tomorrow = np.datetime64('today', 'D') + np.timedelta64(1, 'D')\n",
    "tomorrow"
   ]
  },
  {
   "cell_type": "code",
   "execution_count": 31,
   "id": "1249a102",
   "metadata": {},
   "outputs": [
    {
     "data": {
      "text/plain": [
       "array(['2016-08-01', '2016-08-02', '2016-08-03', '2016-08-04',\n",
       "       '2016-08-05', '2016-08-06', '2016-08-07', '2016-08-08',\n",
       "       '2016-08-09', '2016-08-10', '2016-08-11', '2016-08-12',\n",
       "       '2016-08-13', '2016-08-14', '2016-08-15', '2016-08-16',\n",
       "       '2016-08-17', '2016-08-18', '2016-08-19', '2016-08-20',\n",
       "       '2016-08-21', '2016-08-22', '2016-08-23', '2016-08-24',\n",
       "       '2016-08-25', '2016-08-26', '2016-08-27', '2016-08-28',\n",
       "       '2016-08-29', '2016-08-30', '2016-08-31'], dtype='datetime64[D]')"
      ]
     },
     "execution_count": 31,
     "metadata": {},
     "output_type": "execute_result"
    }
   ],
   "source": [
    "# 34. How to get all the dates corresponding to the month of August 2016?\n",
    "Z = np.arange('2016-08', '2016-09', dtype='datetime64[D]')\n",
    "Z"
   ]
  },
  {
   "cell_type": "code",
   "execution_count": null,
   "id": "55101ef6",
   "metadata": {},
   "outputs": [],
   "source": []
  },
  {
   "cell_type": "code",
   "execution_count": null,
   "id": "736306e7",
   "metadata": {},
   "outputs": [],
   "source": []
  },
  {
   "cell_type": "code",
   "execution_count": null,
   "id": "db0f7d21",
   "metadata": {},
   "outputs": [],
   "source": []
  }
 ],
 "metadata": {
  "kernelspec": {
   "display_name": "Python 3 (ipykernel)",
   "language": "python",
   "name": "python3"
  },
  "language_info": {
   "codemirror_mode": {
    "name": "ipython",
    "version": 3
   },
   "file_extension": ".py",
   "mimetype": "text/x-python",
   "name": "python",
   "nbconvert_exporter": "python",
   "pygments_lexer": "ipython3",
   "version": "3.10.5"
  }
 },
 "nbformat": 4,
 "nbformat_minor": 5
}
